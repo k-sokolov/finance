{
 "cells": [
  {
   "cell_type": "code",
   "execution_count": 2,
   "metadata": {
    "collapsed": true
   },
   "outputs": [],
   "source": [
    "import pandas as pd\n",
    "import numpy as np\n",
    "import matplotlib.pyplot as plt\n",
    "from sklearn.preprocessing import StandardScaler\n",
    "from sklearn.model_selection import train_test_split\n",
    "from sklearn.ensemble import RandomForestRegressor\n",
    "plt.style = 'ggplot'\n",
    "%matplotlib inline\n",
    "import indicators\n",
    "seed = 7"
   ]
  },
  {
   "cell_type": "code",
   "execution_count": null,
   "metadata": {
    "collapsed": true
   },
   "outputs": [],
   "source": [
    "file = 'US1.XOM_130601_170610.csv'\n",
    "data = pd.read_csv(file, decimal = '.',  sep=';', parse_dates=[0])\n",
    "#formatting the file\n",
    "data = data.rename(columns = {'<OPEN>':'Open',\n",
    "                            '<CLOSE>':'Close',\n",
    "                            '<HIGH>':'High',\n",
    "                            '<LOW>':'Low',\n",
    "                            '<VOL>':'Volume'\n",
    "                           })\n",
    "data.drop('<TIME>', axis=1, inplace=True)\n",
    "data = data.set_index(['<DATE>'], drop=True)\n",
    "\n",
    "#creating a target column, High price after 4 days\n",
    "data['Y'] = data['High'].shift(-4)\n",
    "\n",
    "#smoothing the data with exponential moving average\n",
    "data = data.ewm(7).mean()\n",
    "data.head()"
   ]
  },
  {
   "cell_type": "code",
   "execution_count": 3,
   "metadata": {
    "collapsed": true
   },
   "outputs": [],
   "source": [
    "#load and preprocess Brent prices for the same period\n",
    "brent = pd.read_csv('ICE.BRN_130601_170610.csv', header=0, decimal = '.',  sep=';', parse_dates=[0])\n",
    "brent = brent.rename(columns = {'<OPEN>':'Open',\n",
    "                            '<CLOSE>':'Close',\n",
    "                            '<HIGH>':'High',\n",
    "                            '<LOW>':'Low',\n",
    "                            '<VOL>':'Volume'\n",
    "                           })\n",
    "brent.drop('<TIME>', axis=1, inplace=True)\n",
    "brent = brent.set_index(['<DATE>'], drop=True).ewm(3).mean()\n",
    "\n",
    "#load and preprocess DJIA prices for the same period\n",
    "dj = pd.read_csv('D&J-IND_130601_170610.csv', header=0, decimal = '.',  sep=';', parse_dates=[0])\n",
    "dj  = dj.rename(columns = {'<OPEN>':'Open',\n",
    "                            '<CLOSE>':'Close',\n",
    "                            '<HIGH>':'High',\n",
    "                            '<LOW>':'Low',\n",
    "                            '<VOL>':'Volume'\n",
    "                           })\n",
    "dj.drop('<TIME>', axis=1, inplace=True)\n",
    "dj  = dj.set_index(['<DATE>'], drop=True).ewm(3).mean()"
   ]
  },
  {
   "cell_type": "code",
   "execution_count": 4,
   "metadata": {
    "collapsed": true
   },
   "outputs": [],
   "source": [
    "scaler = StandardScaler()\n",
    "#Calculate indicator values on the XOM prices\n",
    "#Write to a dataframe\n",
    "df = pd.DataFrame()\n",
    "df['RSI'] = indicators.RSI(data['Close'], 2).astype(float)\n",
    "df['SO'] = indicators.SO(data['Close'], data['Low'], data['High'], 14).astype(float)\n",
    "df['Will'] = indicators.Will(data['Close'], data['Low'], data['High'], 14).astype(float)\n",
    "df['MACD'] = indicators.MACD(data['Close'], 12, 26, 9)\n",
    "df['PROC'] = indicators.PROC(data['Close'], 2)\n",
    "df['OBV'] = indicators.OBV(data['Close'], data['Volume'], 1)\n",
    "\n",
    "#add Brent and DJIA prices, as well as teh labels for the same day\n",
    "df['dBrent'] = brent['Close']\n",
    "df['dj'] = dj['Close']\n",
    "df['Y'] = data['Y']\n",
    "df = df.dropna()\n",
    "\n",
    "#scale the data for better performance of neral nets\n",
    "df = scaler.fit_transform(df)"
   ]
  },
  {
   "cell_type": "markdown",
   "metadata": {},
   "source": [
    "## Generating training, cross-validation and test datasets"
   ]
  },
  {
   "cell_type": "code",
   "execution_count": 5,
   "metadata": {},
   "outputs": [
    {
     "name": "stdout",
     "output_type": "stream",
     "text": [
      "601 601 402 1003\n"
     ]
    }
   ],
   "source": [
    "#Preservin the time-series structure is crucial, so I've chosen to use first 60% of the data -\n",
    "# - (~2 years) for training and the rest for testing\n",
    "train_size = int(len(df) * 0.6)\n",
    "test_size = int((len(df) - train_size))\n",
    "\n",
    "trainy, testy = df[:train_size,8], df[train_size:,8]\n",
    "trainx, testx = df[:train_size,:8], df[train_size:,:8]\n",
    "\n",
    "#check the sizes of arrays\n",
    "print(len(trainy), len(trainx), len(testx), len(df))"
   ]
  },
  {
   "cell_type": "code",
   "execution_count": 6,
   "metadata": {},
   "outputs": [
    {
     "data": {
      "text/plain": [
       "LinearRegression(copy_X=True, fit_intercept=True, n_jobs=-1, normalize=False)"
      ]
     },
     "execution_count": 6,
     "metadata": {},
     "output_type": "execute_result"
    }
   ],
   "source": [
    "#First trying out a Linear Regression model\n",
    "\n",
    "from sklearn.linear_model import LinearRegression\n",
    "\n",
    "lr = LinearRegression(n_jobs=-1)\n",
    "lr.fit(trainx,trainy)"
   ]
  },
  {
   "cell_type": "code",
   "execution_count": 14,
   "metadata": {},
   "outputs": [
    {
     "data": {
      "text/plain": [
       "[<matplotlib.lines.Line2D at 0xc551ac8>]"
      ]
     },
     "execution_count": 14,
     "metadata": {},
     "output_type": "execute_result"
    },
    {
     "data": {
      "image/png": "[encoded data removed]",
      "text/plain": [
       "<matplotlib.figure.Figure at 0xc568160>"
      ]
     },
     "metadata": {},
     "output_type": "display_data"
    }
   ],
   "source": [
    "train_pr = lr.predict(trainx)\n",
    "test_pr = lr.predict(testx)\n",
    "\n",
    "#prepare test data for plotting\n",
    "lr_pr_plot = np.concatenate((np.nan*np.ones(len(trainx)-600),test_pr))\n",
    "plt.figure(figsize=(15,10))\n",
    "plt.plot(df[600:,8])\n",
    "plt.plot(lr_pr_plot, color='r')"
   ]
  },
  {
   "cell_type": "code",
   "execution_count": null,
   "metadata": {
    "collapsed": true
   },
   "outputs": [],
   "source": []
  },
  {
   "cell_type": "markdown",
   "metadata": {},
   "source": [
    "## Random forest regressor\n",
    "\n",
    "next, let us try a random forest regressor on the same data"
   ]
  },
  {
   "cell_type": "code",
   "execution_count": 8,
   "metadata": {},
   "outputs": [
    {
     "name": "stderr",
     "output_type": "stream",
     "text": [
      "[Parallel(n_jobs=-1)]: Done  34 tasks      | elapsed:    0.0s\n",
      "[Parallel(n_jobs=-1)]: Done 184 tasks      | elapsed:    0.0s\n",
      "[Parallel(n_jobs=-1)]: Done 434 tasks      | elapsed:    0.1s\n",
      "[Parallel(n_jobs=-1)]: Done 784 tasks      | elapsed:    0.2s\n",
      "[Parallel(n_jobs=-1)]: Done 1000 out of 1000 | elapsed:    0.3s finished\n",
      "[Parallel(n_jobs=8)]: Done  34 tasks      | elapsed:    0.0s\n",
      "[Parallel(n_jobs=8)]: Done 184 tasks      | elapsed:    0.0s\n",
      "[Parallel(n_jobs=8)]: Done 434 tasks      | elapsed:    0.0s\n",
      "[Parallel(n_jobs=8)]: Done 784 tasks      | elapsed:    0.0s\n",
      "[Parallel(n_jobs=8)]: Done 1000 out of 1000 | elapsed:    0.1s finished\n"
     ]
    },
    {
     "data": {
      "text/plain": [
       "0.97825560530490441"
      ]
     },
     "execution_count": 8,
     "metadata": {},
     "output_type": "execute_result"
    }
   ],
   "source": [
    "rf = RandomForestRegressor(n_estimators=1000, criterion='mse', max_depth=4,\n",
    "                       bootstrap=True, n_jobs=-1, random_state=seed, verbose=1)\n",
    "rf.fit(trainx, trainy)\n",
    "rf.score(trainx, trainy)"
   ]
  },
  {
   "cell_type": "code",
   "execution_count": 13,
   "metadata": {},
   "outputs": [
    {
     "name": "stderr",
     "output_type": "stream",
     "text": [
      "[Parallel(n_jobs=8)]: Done  34 tasks      | elapsed:    0.0s\n",
      "[Parallel(n_jobs=8)]: Done 184 tasks      | elapsed:    0.0s\n",
      "[Parallel(n_jobs=8)]: Done 434 tasks      | elapsed:    0.0s\n",
      "[Parallel(n_jobs=8)]: Done 784 tasks      | elapsed:    0.1s\n",
      "[Parallel(n_jobs=8)]: Done 1000 out of 1000 | elapsed:    0.2s finished\n",
      "[Parallel(n_jobs=8)]: Done  34 tasks      | elapsed:    0.0s\n",
      "[Parallel(n_jobs=8)]: Done 184 tasks      | elapsed:    0.0s\n",
      "[Parallel(n_jobs=8)]: Done 434 tasks      | elapsed:    0.0s\n",
      "[Parallel(n_jobs=8)]: Done 784 tasks      | elapsed:    0.1s\n",
      "[Parallel(n_jobs=8)]: Done 1000 out of 1000 | elapsed:    0.1s finished\n"
     ]
    },
    {
     "data": {
      "text/plain": [
       "[<matplotlib.lines.Line2D at 0xc33ae48>]"
      ]
     },
     "execution_count": 13,
     "metadata": {},
     "output_type": "execute_result"
    },
    {
     "data": {
      "image/png": "[encoded data removed]",
      "text/plain": [
       "<matplotlib.figure.Figure at 0xc96fba8>"
      ]
     },
     "metadata": {},
     "output_type": "display_data"
    }
   ],
   "source": [
    "train_pr = rf.predict(trainx)\n",
    "test_pr = rf.predict(testx)\n",
    "test_pr_plot = np.concatenate((np.nan*np.ones(len(trainx)-550),test_pr))\n",
    "plt.figure(figsize=(15,10))\n",
    "plt.plot(df[550:,8])\n",
    "#plt.plot(train_pr)\n",
    "plt.plot(test_pr_plot)"
   ]
  },
  {
   "cell_type": "code",
   "execution_count": 13,
   "metadata": {},
   "outputs": [
    {
     "data": {
      "text/plain": [
       "array([  2.47771742e-05,   1.08317039e-03,   1.05127939e-03,\n",
       "         6.91606813e-06,   1.67968149e-04,   2.79617520e-01,\n",
       "         5.44519965e-01,   1.73528405e-01])"
      ]
     },
     "execution_count": 13,
     "metadata": {},
     "output_type": "execute_result"
    }
   ],
   "source": [
    "rf.feature_importances_"
   ]
  },
  {
   "cell_type": "markdown",
   "metadata": {},
   "source": [
    "the linear nature of sklearn's regression forest leads to some underfitting. it is better than linear regression in its estimations on the peak, but largely under- and overestimates at the beginning and at the end of the period, respectively.\n",
    "\n",
    "Feature importances tell us, that On Balance Volume, DJIA and Brent prices are the 3 most deceisive features, while other seem to be much less relevant."
   ]
  },
  {
   "cell_type": "markdown",
   "metadata": {},
   "source": [
    "## Random Forest Classifier\n",
    "\n",
    "we can try to turn the problem into a classification task. Lets use a classification forest to predict if the DJIA price goes up or down after 4 days."
   ]
  },
  {
   "cell_type": "code",
   "execution_count": 682,
   "metadata": {
    "collapsed": true
   },
   "outputs": [],
   "source": [
    "data['Yc'] = data['Y'] - data['High']\n",
    "\n",
    "#0 means a decrease, 1 means an in crease in DJIA after 4 days\n",
    "for i, item in enumerate(data['Yc']):\n",
    "    if item < 0:\n",
    "        data.ix[i,'Yc'] = 0\n",
    "    elif i > 0:\n",
    "        data.ix[i,'Yc'] = 1\n",
    "    else: \n",
    "        data.ix[i,'Yc'] = 0\n",
    "        \n",
    "df['Yc'] = data['Yc'].values\n",
    "\n",
    "df = df.dropna()"
   ]
  },
  {
   "cell_type": "code",
   "execution_count": 684,
   "metadata": {
    "collapsed": true
   },
   "outputs": [],
   "source": [
    "#creating train and test data, while preserving the ratio of the labels in the original data\n",
    "from sklearn.model_selection import StratifiedShuffleSplit\n",
    "sss = StratifiedShuffleSplit(n_splits=1, test_size=0.4, random_state=seed)\n",
    "x = df.ix[:,:9].values\n",
    "y = df['Yc'].values\n",
    "train_idx, test_idx = next(iter(sss.split(x, y)))\n",
    "train_x, test_x = x[train_idx], x[test_idx]\n",
    "train_y, test_y = y[train_idx], y[test_idx]"
   ]
  },
  {
   "cell_type": "code",
   "execution_count": 686,
   "metadata": {},
   "outputs": [
    {
     "name": "stderr",
     "output_type": "stream",
     "text": [
      "[Parallel(n_jobs=-1)]: Done   1 out of   1 | elapsed:   10.0s finished\n"
     ]
    },
    {
     "data": {
      "text/plain": [
       "0.63694267515923564"
      ]
     },
     "execution_count": 686,
     "metadata": {},
     "output_type": "execute_result"
    }
   ],
   "source": [
    "# a logictic regreesion to be used as a benchmark\n",
    "from sklearn.linear_model import LogisticRegression\n",
    "\n",
    "lr = LogisticRegression(penalty='l2', tol=0.01, random_state=seed,\n",
    "                        solver='newton-cg', max_iter=150, \n",
    "                       verbose=1, n_jobs=-1)\n",
    "\n",
    "lr.fit(train_x, train_y)\n",
    "lr.score(train_x, train_y)"
   ]
  },
  {
   "cell_type": "code",
   "execution_count": 691,
   "metadata": {},
   "outputs": [
    {
     "name": "stderr",
     "output_type": "stream",
     "text": [
      "[Parallel(n_jobs=-1)]: Done  46 tasks      | elapsed:    0.0s\n",
      "[Parallel(n_jobs=-1)]: Done 100 out of 100 | elapsed:    0.2s finished\n",
      "[Parallel(n_jobs=2)]: Done  46 tasks      | elapsed:    0.0s\n",
      "[Parallel(n_jobs=2)]: Done 100 out of 100 | elapsed:    0.0s finished\n"
     ]
    },
    {
     "data": {
      "text/plain": [
       "0.96178343949044587"
      ]
     },
     "execution_count": 691,
     "metadata": {},
     "output_type": "execute_result"
    }
   ],
   "source": [
    "#now, the same with the random forest classifier\n",
    "rf = RandomForestClassifier(n_estimators=100, criterion='gini', max_depth=5,\n",
    "                       bootstrap=True, n_jobs=-1, random_state=seed, verbose=1)\n",
    "rf.fit(train_x, train_y)\n",
    "rf.score(train_x, train_y)"
   ]
  },
  {
   "cell_type": "code",
   "execution_count": 692,
   "metadata": {},
   "outputs": [
    {
     "name": "stderr",
     "output_type": "stream",
     "text": [
      "[Parallel(n_jobs=2)]: Done  46 tasks      | elapsed:    0.0s\n",
      "[Parallel(n_jobs=2)]: Done 100 out of 100 | elapsed:    0.0s finished\n"
     ]
    },
    {
     "data": {
      "text/plain": [
       "0.660377358490566"
      ]
     },
     "execution_count": 692,
     "metadata": {},
     "output_type": "execute_result"
    }
   ],
   "source": [
    "rf.score(test_x, test_y)"
   ]
  },
  {
   "cell_type": "markdown",
   "metadata": {},
   "source": [
    "Although better than logistic, classification forest still does not do a good job. Practically, an accuracy of 0.6 is not enough."
   ]
  },
  {
   "cell_type": "markdown",
   "metadata": {},
   "source": [
    "## Neural Networks"
   ]
  },
  {
   "cell_type": "code",
   "execution_count": 10,
   "metadata": {},
   "outputs": [
    {
     "name": "stderr",
     "output_type": "stream",
     "text": [
      "Using TensorFlow backend.\n"
     ]
    }
   ],
   "source": [
    "import keras\n",
    "from keras.models import Sequential\n",
    "from keras.layers import Dense\n",
    "from keras.layers import LSTM\n",
    "\n",
    "from sklearn.metrics import mean_squared_error\n",
    "from keras.layers import LeakyReLU"
   ]
  },
  {
   "cell_type": "code",
   "execution_count": 16,
   "metadata": {
    "collapsed": true
   },
   "outputs": [],
   "source": [
    "\n",
    "trainx, testx = trainx.reshape(601,8,1), testx.reshape(402,8,1)"
   ]
  },
  {
   "cell_type": "code",
   "execution_count": 19,
   "metadata": {},
   "outputs": [
    {
     "name": "stdout",
     "output_type": "stream",
     "text": [
      "Epoch 1/70\n",
      "4s - loss: 0.6856\n",
      "Epoch 2/70\n",
      "3s - loss: 0.3568\n",
      "Epoch 3/70\n",
      "3s - loss: 0.2718\n",
      "Epoch 4/70\n",
      "3s - loss: 0.2179\n",
      "Epoch 5/70\n",
      "3s - loss: 0.1790\n",
      "Epoch 6/70\n",
      "3s - loss: 0.1495\n",
      "Epoch 7/70\n",
      "3s - loss: 0.1225\n",
      "Epoch 8/70\n",
      "3s - loss: 0.1018\n",
      "Epoch 9/70\n",
      "3s - loss: 0.0848\n",
      "Epoch 10/70\n",
      "3s - loss: 0.0761\n",
      "Epoch 11/70\n",
      "3s - loss: 0.0703\n",
      "Epoch 12/70\n",
      "3s - loss: 0.0665\n",
      "Epoch 13/70\n",
      "3s - loss: 0.0652\n",
      "Epoch 14/70\n",
      "3s - loss: 0.0650\n",
      "Epoch 15/70\n",
      "3s - loss: 0.0623\n",
      "Epoch 16/70\n",
      "3s - loss: 0.0616\n",
      "Epoch 17/70\n",
      "3s - loss: 0.0612\n",
      "Epoch 18/70\n",
      "3s - loss: 0.0600\n",
      "Epoch 19/70\n",
      "3s - loss: 0.0592\n",
      "Epoch 20/70\n",
      "3s - loss: 0.0582\n",
      "Epoch 21/70\n",
      "3s - loss: 0.0584\n",
      "Epoch 22/70\n",
      "3s - loss: 0.0576\n",
      "Epoch 23/70\n",
      "3s - loss: 0.0575\n",
      "Epoch 24/70\n",
      "3s - loss: 0.0563\n",
      "Epoch 25/70\n",
      "3s - loss: 0.0566\n",
      "Epoch 26/70\n",
      "3s - loss: 0.0557\n",
      "Epoch 27/70\n",
      "3s - loss: 0.0558\n",
      "Epoch 28/70\n",
      "3s - loss: 0.0553\n",
      "Epoch 29/70\n",
      "3s - loss: 0.0542\n",
      "Epoch 30/70\n",
      "3s - loss: 0.0536\n",
      "Epoch 31/70\n",
      "3s - loss: 0.0540\n",
      "Epoch 32/70\n",
      "3s - loss: 0.0534\n",
      "Epoch 33/70\n",
      "3s - loss: 0.0528\n",
      "Epoch 34/70\n",
      "3s - loss: 0.0535\n",
      "Epoch 35/70\n",
      "3s - loss: 0.0520\n",
      "Epoch 36/70\n",
      "3s - loss: 0.0524\n",
      "Epoch 37/70\n",
      "3s - loss: 0.0523\n",
      "Epoch 38/70\n",
      "3s - loss: 0.0521\n",
      "Epoch 39/70\n",
      "3s - loss: 0.0515\n",
      "Epoch 40/70\n",
      "3s - loss: 0.0514\n",
      "Epoch 41/70\n",
      "3s - loss: 0.0508\n",
      "Epoch 42/70\n",
      "3s - loss: 0.0506\n",
      "Epoch 43/70\n",
      "3s - loss: 0.0511\n",
      "Epoch 44/70\n",
      "3s - loss: 0.0500\n",
      "Epoch 45/70\n",
      "3s - loss: 0.0502\n",
      "Epoch 46/70\n",
      "3s - loss: 0.0506\n",
      "Epoch 47/70\n",
      "3s - loss: 0.0500\n",
      "Epoch 48/70\n",
      "3s - loss: 0.0491\n",
      "Epoch 49/70\n",
      "3s - loss: 0.0490\n",
      "Epoch 50/70\n",
      "3s - loss: 0.0485\n",
      "Epoch 51/70\n",
      "3s - loss: 0.0475\n",
      "Epoch 52/70\n",
      "3s - loss: 0.0482\n",
      "Epoch 53/70\n",
      "3s - loss: 0.0485\n",
      "Epoch 54/70\n",
      "3s - loss: 0.0477\n",
      "Epoch 55/70\n",
      "3s - loss: 0.0470\n",
      "Epoch 56/70\n",
      "3s - loss: 0.0463\n",
      "Epoch 57/70\n",
      "3s - loss: 0.0465\n",
      "Epoch 58/70\n",
      "3s - loss: 0.0464\n",
      "Epoch 59/70\n",
      "3s - loss: 0.0458\n",
      "Epoch 60/70\n",
      "3s - loss: 0.0462\n",
      "Epoch 61/70\n",
      "3s - loss: 0.0454\n",
      "Epoch 62/70\n",
      "3s - loss: 0.0446\n",
      "Epoch 63/70\n",
      "3s - loss: 0.0453\n",
      "Epoch 64/70\n",
      "3s - loss: 0.0451\n",
      "Epoch 65/70\n",
      "3s - loss: 0.0452\n",
      "Epoch 66/70\n",
      "3s - loss: 0.0443\n",
      "Epoch 67/70\n",
      "3s - loss: 0.0437\n",
      "Epoch 68/70\n",
      "3s - loss: 0.0426\n",
      "Epoch 69/70\n",
      "3s - loss: 0.0433\n",
      "Epoch 70/70\n",
      "3s - loss: 0.0431\n"
     ]
    },
    {
     "data": {
      "text/plain": [
       "<keras.callbacks.History at 0x17d71f28>"
      ]
     },
     "execution_count": 19,
     "metadata": {},
     "output_type": "execute_result"
    }
   ],
   "source": [
    "mlp = Sequential()\n",
    "mlp.add(LSTM(5, input_shape = (8,1) ))\n",
    "\n",
    "\n",
    "mlp.add(Dense(5, activation='relu'))\n",
    "\n",
    "\n",
    "\n",
    "mlp.add(Dense(1, activation='linear'))\n",
    "mlp.compile(loss='mean_squared_error', optimizer= 'sgd')\n",
    "mlp.fit(trainx, trainy, epochs=70, batch_size=1, verbose=2)"
   ]
  },
  {
   "cell_type": "code",
   "execution_count": null,
   "metadata": {
    "collapsed": true
   },
   "outputs": [],
   "source": []
  },
  {
   "cell_type": "code",
   "execution_count": null,
   "metadata": {},
   "outputs": [],
   "source": [
    "train_pr = mlp.predict(trainx).flatten()\n",
    "test_pr = mlp.predict(testx).flatten()\n",
    "#test_pr = scaler.inverse_transform(test_pr)\n",
    "#train_pr = scaler.inverse_transform(train_pr)\n",
    "test_pr_plot = np.concatenate((np.nan*np.ones(len(trainx)),test_pr), axis=0)\n",
    "plt.figure(figsize=(15,10))\n",
    "plt.plot((df[550:,8]))\n",
    "#plt.plot(train_pr)\n",
    "plt.plot(test_pr_plot)"
   ]
  },
  {
   "cell_type": "code",
   "execution_count": 127,
   "metadata": {},
   "outputs": [
    {
     "data": {
      "text/plain": [
       "(210, 1)"
      ]
     },
     "execution_count": 127,
     "metadata": {},
     "output_type": "execute_result"
    }
   ],
   "source": [
    "test_pr.shape"
   ]
  },
  {
   "cell_type": "code",
   "execution_count": null,
   "metadata": {
    "collapsed": true
   },
   "outputs": [],
   "source": [
    "from pyESN import ESN\n",
    "esn = ESN(n_inputs = 6,\n",
    "          n_outputs = 1,\n",
    "          n_reservoir = 100,\n",
    "          sparsity=0.05,\n",
    "          noise=0.0002,\n",
    "          spectral_radius = 0.000009,\n",
    "          random_state=7,\n",
    "          #teacher_forcing=True,\n",
    "          silent=False)\n",
    "\n",
    "pred_training = esn.fit(trainx, trainy)\n",
    "prediction_test = esn.predict(testx)\n",
    "prediction_train = esn.predict(trainx)\n",
    "print(\"test error: \\n\"+str(np.sqrt(np.mean((prediction_test.flatten() - testy)**2))))"
   ]
  },
  {
   "cell_type": "code",
   "execution_count": null,
   "metadata": {
    "collapsed": true
   },
   "outputs": [],
   "source": [
    "plt.figure(figsize=(15,10))\n",
    "train_pr = pred_training.flatten()\n",
    "test_pr = prediction_test.flatten()\n",
    "\n",
    "test_pr_plot = np.concatenate((np.nan*np.ones(len(trainx)),test_pr), axis=0)\n",
    "plt.plot((df[:,6]))\n",
    "plt.plot(train_pr)\n",
    "plt.plot(test_pr_plot)"
   ]
  },
  {
   "cell_type": "code",
   "execution_count": null,
   "metadata": {
    "collapsed": true
   },
   "outputs": [],
   "source": []
  },
  {
   "cell_type": "code",
   "execution_count": null,
   "metadata": {
    "collapsed": true
   },
   "outputs": [],
   "source": []
  }
 ],
 "metadata": {
  "kernelspec": {
   "display_name": "Python [default]",
   "language": "python",
   "name": "python3"
  },
  "language_info": {
   "codemirror_mode": {
    "name": "ipython",
    "version": 3
   },
   "file_extension": ".py",
   "mimetype": "text/x-python",
   "name": "python",
   "nbconvert_exporter": "python",
   "pygments_lexer": "ipython3",
   "version": "3.5.3"
  }
 },
 "nbformat": 4,
 "nbformat_minor": 2
}
