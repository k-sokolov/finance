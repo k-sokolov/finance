{
 "cells": [
  {
   "cell_type": "code",
   "execution_count": 4,
   "metadata": {
    "collapsed": true
   },
   "outputs": [],
   "source": [
    "import quandl\n",
    "from functools import reduce\n",
    "from sklearn.model_selection import train_test_split\n",
    "import indicators\n",
    "import pandas as pd"
   ]
  },
  {
   "cell_type": "code",
   "execution_count": 2,
   "metadata": {
    "collapsed": true
   },
   "outputs": [],
   "source": [
    "n_bitc = quandl.get(\"BCHAIN/TOTBC\", start_date=\"2013-01-01\")\n",
    "Transaction_Volume = quandl.get(\"BCHAIN/ETRAV\", start_date=\"2013-01-01\")\n",
    "n_trans = quandl.get(\"BCHAIN/NTRAN\", start_date=\"2013-01-01\")\n",
    "usd_ex_trade_vol = quandl.get(\"BCHAIN/TRVOU\", start_date=\"2013-01-01\")\n",
    "trans_fees = quandl.get(\"BCHAIN/TRFEE\", start_date=\"2013-01-01\")\n",
    "usd_ex_rate = quandl.get(\"BCHARTS/BITSTAMPUSD\", start_date=\"2013-01-01\")\n",
    "av_block_size = quandl.get(\"BCHAIN/AVBLS\", start_date=\"2013-01-01\")\n",
    "blockchain_Size = quandl.get(\"BCHAIN/BLCHS\", start_date=\"2013-01-01\")\n",
    "hash_rate = quandl.get(\"BCHAIN/HRATE\", start_date=\"2013-01-01\")\n",
    "miner_revenue = quandl.get(\"BCHAIN/MIREV\", start_date=\"2013-01-01\")"
   ]
  },
  {
   "cell_type": "code",
   "execution_count": 70,
   "metadata": {
    "collapsed": true
   },
   "outputs": [],
   "source": [
    "dfs = [n_bitc, Transaction_Volume, n_trans, trans_fees, usd_ex_trade_vol, av_block_size, blockchain_Size, hash_rate, miner_revenue, usd_ex_rate]\n",
    "\n",
    "df_final = reduce(lambda left,right: pd.merge(left,right, left_index=True, right_index=True,), dfs)\n",
    "df_final['Y'] = df_final['Close'].shift(-3)\n",
    "\n",
    "df_final = df_final.ewm(7).mean()\n",
    "df_final = df_final.dropna()\n"
   ]
  },
  {
   "cell_type": "code",
   "execution_count": 63,
   "metadata": {},
   "outputs": [
    {
     "data": {
      "text/plain": [
       "Index(['Value_x', 'Value_y', 'Value_x', 'Value_y', 'Value_x', 'Value_y',\n",
       "       'Value_x', 'Value_y', 'Value', 'Open', 'High', 'Low', 'Close',\n",
       "       'Volume (BTC)', 'Volume (Currency)', 'Weighted Price', 'Y'],\n",
       "      dtype='object')"
      ]
     },
     "execution_count": 63,
     "metadata": {},
     "output_type": "execute_result"
    }
   ],
   "source": [
    "df_final.columns"
   ]
  },
  {
   "cell_type": "code",
   "execution_count": 157,
   "metadata": {},
   "outputs": [
    {
     "data": {
      "text/html": [
       "<div>\n",
       "<style>\n",
       "    .dataframe thead tr:only-child th {\n",
       "        text-align: right;\n",
       "    }\n",
       "\n",
       "    .dataframe thead th {\n",
       "        text-align: left;\n",
       "    }\n",
       "\n",
       "    .dataframe tbody tr th {\n",
       "        vertical-align: top;\n",
       "    }\n",
       "</style>\n",
       "<table border=\"1\" class=\"dataframe\">\n",
       "  <thead>\n",
       "    <tr style=\"text-align: right;\">\n",
       "      <th></th>\n",
       "      <th>Value_x</th>\n",
       "      <th>Value_y</th>\n",
       "      <th>Value_x</th>\n",
       "      <th>Value_y</th>\n",
       "      <th>Value_x</th>\n",
       "      <th>Value_y</th>\n",
       "      <th>Value_x</th>\n",
       "      <th>Value_y</th>\n",
       "      <th>Value</th>\n",
       "      <th>Close</th>\n",
       "      <th>Volume (BTC)</th>\n",
       "      <th>Volume (Currency)</th>\n",
       "      <th>RSI</th>\n",
       "      <th>SO</th>\n",
       "      <th>Will</th>\n",
       "      <th>MACD</th>\n",
       "      <th>PROC</th>\n",
       "      <th>OBV</th>\n",
       "    </tr>\n",
       "  </thead>\n",
       "  <tbody>\n",
       "    <tr>\n",
       "      <th>count</th>\n",
       "      <td>1.644000e+03</td>\n",
       "      <td>1644.000000</td>\n",
       "      <td>1644.000000</td>\n",
       "      <td>1644.000000</td>\n",
       "      <td>1.644000e+03</td>\n",
       "      <td>1644.000000</td>\n",
       "      <td>1644.000000</td>\n",
       "      <td>1.644000e+03</td>\n",
       "      <td>1.644000e+03</td>\n",
       "      <td>1644.000000</td>\n",
       "      <td>1644.000000</td>\n",
       "      <td>1.644000e+03</td>\n",
       "      <td>1644.00000</td>\n",
       "      <td>1644.000000</td>\n",
       "      <td>1644.000000</td>\n",
       "      <td>1644.00000</td>\n",
       "      <td>1644.000000</td>\n",
       "      <td>1.644000e+03</td>\n",
       "    </tr>\n",
       "    <tr>\n",
       "      <th>mean</th>\n",
       "      <td>1.386311e+07</td>\n",
       "      <td>225679.229058</td>\n",
       "      <td>136873.512448</td>\n",
       "      <td>57.993000</td>\n",
       "      <td>2.313892e+07</td>\n",
       "      <td>0.464564</td>\n",
       "      <td>42923.575822</td>\n",
       "      <td>8.682361e+05</td>\n",
       "      <td>1.572472e+06</td>\n",
       "      <td>503.218099</td>\n",
       "      <td>11838.023934</td>\n",
       "      <td>6.007421e+06</td>\n",
       "      <td>41.00486</td>\n",
       "      <td>60.235688</td>\n",
       "      <td>-39.764312</td>\n",
       "      <td>0.00000</td>\n",
       "      <td>0.006835</td>\n",
       "      <td>8.799403e+05</td>\n",
       "    </tr>\n",
       "    <tr>\n",
       "      <th>std</th>\n",
       "      <td>1.759909e+06</td>\n",
       "      <td>82601.117029</td>\n",
       "      <td>85533.000627</td>\n",
       "      <td>79.522479</td>\n",
       "      <td>3.517837e+07</td>\n",
       "      <td>0.291700</td>\n",
       "      <td>33934.460760</td>\n",
       "      <td>1.199251e+06</td>\n",
       "      <td>1.062352e+06</td>\n",
       "      <td>440.815295</td>\n",
       "      <td>7838.507033</td>\n",
       "      <td>7.305146e+06</td>\n",
       "      <td>47.14692</td>\n",
       "      <td>28.809677</td>\n",
       "      <td>28.809677</td>\n",
       "      <td>0.20344</td>\n",
       "      <td>0.028923</td>\n",
       "      <td>5.518496e+05</td>\n",
       "    </tr>\n",
       "    <tr>\n",
       "      <th>min</th>\n",
       "      <td>1.062156e+07</td>\n",
       "      <td>72303.650477</td>\n",
       "      <td>36899.573964</td>\n",
       "      <td>10.154368</td>\n",
       "      <td>2.754020e+05</td>\n",
       "      <td>0.095770</td>\n",
       "      <td>4054.420118</td>\n",
       "      <td>2.112635e+01</td>\n",
       "      <td>4.849424e+04</td>\n",
       "      <td>13.163188</td>\n",
       "      <td>1857.566342</td>\n",
       "      <td>2.433573e+04</td>\n",
       "      <td>0.00000</td>\n",
       "      <td>3.041000</td>\n",
       "      <td>-96.959000</td>\n",
       "      <td>-1.00000</td>\n",
       "      <td>-0.234375</td>\n",
       "      <td>-1.257387e+04</td>\n",
       "    </tr>\n",
       "    <tr>\n",
       "      <th>25%</th>\n",
       "      <td>1.238233e+07</td>\n",
       "      <td>167012.181639</td>\n",
       "      <td>62061.373347</td>\n",
       "      <td>14.588678</td>\n",
       "      <td>3.618427e+06</td>\n",
       "      <td>0.198302</td>\n",
       "      <td>14023.340554</td>\n",
       "      <td>2.277905e+04</td>\n",
       "      <td>8.804209e+05</td>\n",
       "      <td>234.722926</td>\n",
       "      <td>6373.723316</td>\n",
       "      <td>1.852040e+06</td>\n",
       "      <td>0.00000</td>\n",
       "      <td>28.177250</td>\n",
       "      <td>-71.822750</td>\n",
       "      <td>0.00000</td>\n",
       "      <td>-0.005825</td>\n",
       "      <td>3.890593e+05</td>\n",
       "    </tr>\n",
       "    <tr>\n",
       "      <th>50%</th>\n",
       "      <td>1.399738e+07</td>\n",
       "      <td>230657.081735</td>\n",
       "      <td>101124.115374</td>\n",
       "      <td>33.608634</td>\n",
       "      <td>1.080052e+07</td>\n",
       "      <td>0.377178</td>\n",
       "      <td>31072.028426</td>\n",
       "      <td>3.400702e+05</td>\n",
       "      <td>1.368735e+06</td>\n",
       "      <td>416.189311</td>\n",
       "      <td>9716.377015</td>\n",
       "      <td>3.640349e+06</td>\n",
       "      <td>0.00000</td>\n",
       "      <td>71.603000</td>\n",
       "      <td>-28.397000</td>\n",
       "      <td>0.00000</td>\n",
       "      <td>0.002343</td>\n",
       "      <td>9.364682e+05</td>\n",
       "    </tr>\n",
       "    <tr>\n",
       "      <th>75%</th>\n",
       "      <td>1.553792e+07</td>\n",
       "      <td>274901.836834</td>\n",
       "      <td>216152.742719</td>\n",
       "      <td>56.890247</td>\n",
       "      <td>2.724364e+07</td>\n",
       "      <td>0.755917</td>\n",
       "      <td>68092.804024</td>\n",
       "      <td>1.382121e+06</td>\n",
       "      <td>2.016569e+06</td>\n",
       "      <td>626.345026</td>\n",
       "      <td>15036.421057</td>\n",
       "      <td>6.878733e+06</td>\n",
       "      <td>100.00000</td>\n",
       "      <td>86.503250</td>\n",
       "      <td>-13.496750</td>\n",
       "      <td>0.00000</td>\n",
       "      <td>0.015649</td>\n",
       "      <td>1.233645e+06</td>\n",
       "    </tr>\n",
       "    <tr>\n",
       "      <th>max</th>\n",
       "      <td>1.641493e+07</td>\n",
       "      <td>499285.356422</td>\n",
       "      <td>330375.067666</td>\n",
       "      <td>506.850759</td>\n",
       "      <td>2.428183e+08</td>\n",
       "      <td>0.976237</td>\n",
       "      <td>121887.772403</td>\n",
       "      <td>5.379877e+06</td>\n",
       "      <td>6.132412e+06</td>\n",
       "      <td>2634.372613</td>\n",
       "      <td>45961.326141</td>\n",
       "      <td>5.040644e+07</td>\n",
       "      <td>100.00000</td>\n",
       "      <td>96.702000</td>\n",
       "      <td>-3.298000</td>\n",
       "      <td>1.00000</td>\n",
       "      <td>0.194743</td>\n",
       "      <td>2.242971e+06</td>\n",
       "    </tr>\n",
       "  </tbody>\n",
       "</table>\n",
       "</div>"
      ],
      "text/plain": [
       "            Value_x        Value_y        Value_x      Value_y       Value_x  \\\n",
       "count  1.644000e+03    1644.000000    1644.000000  1644.000000  1.644000e+03   \n",
       "mean   1.386311e+07  225679.229058  136873.512448    57.993000  2.313892e+07   \n",
       "std    1.759909e+06   82601.117029   85533.000627    79.522479  3.517837e+07   \n",
       "min    1.062156e+07   72303.650477   36899.573964    10.154368  2.754020e+05   \n",
       "25%    1.238233e+07  167012.181639   62061.373347    14.588678  3.618427e+06   \n",
       "50%    1.399738e+07  230657.081735  101124.115374    33.608634  1.080052e+07   \n",
       "75%    1.553792e+07  274901.836834  216152.742719    56.890247  2.724364e+07   \n",
       "max    1.641493e+07  499285.356422  330375.067666   506.850759  2.428183e+08   \n",
       "\n",
       "           Value_y        Value_x       Value_y         Value        Close  \\\n",
       "count  1644.000000    1644.000000  1.644000e+03  1.644000e+03  1644.000000   \n",
       "mean      0.464564   42923.575822  8.682361e+05  1.572472e+06   503.218099   \n",
       "std       0.291700   33934.460760  1.199251e+06  1.062352e+06   440.815295   \n",
       "min       0.095770    4054.420118  2.112635e+01  4.849424e+04    13.163188   \n",
       "25%       0.198302   14023.340554  2.277905e+04  8.804209e+05   234.722926   \n",
       "50%       0.377178   31072.028426  3.400702e+05  1.368735e+06   416.189311   \n",
       "75%       0.755917   68092.804024  1.382121e+06  2.016569e+06   626.345026   \n",
       "max       0.976237  121887.772403  5.379877e+06  6.132412e+06  2634.372613   \n",
       "\n",
       "       Volume (BTC)  Volume (Currency)         RSI           SO         Will  \\\n",
       "count   1644.000000       1.644000e+03  1644.00000  1644.000000  1644.000000   \n",
       "mean   11838.023934       6.007421e+06    41.00486    60.235688   -39.764312   \n",
       "std     7838.507033       7.305146e+06    47.14692    28.809677    28.809677   \n",
       "min     1857.566342       2.433573e+04     0.00000     3.041000   -96.959000   \n",
       "25%     6373.723316       1.852040e+06     0.00000    28.177250   -71.822750   \n",
       "50%     9716.377015       3.640349e+06     0.00000    71.603000   -28.397000   \n",
       "75%    15036.421057       6.878733e+06   100.00000    86.503250   -13.496750   \n",
       "max    45961.326141       5.040644e+07   100.00000    96.702000    -3.298000   \n",
       "\n",
       "             MACD         PROC           OBV  \n",
       "count  1644.00000  1644.000000  1.644000e+03  \n",
       "mean      0.00000     0.006835  8.799403e+05  \n",
       "std       0.20344     0.028923  5.518496e+05  \n",
       "min      -1.00000    -0.234375 -1.257387e+04  \n",
       "25%       0.00000    -0.005825  3.890593e+05  \n",
       "50%       0.00000     0.002343  9.364682e+05  \n",
       "75%       0.00000     0.015649  1.233645e+06  \n",
       "max       1.00000     0.194743  2.242971e+06  "
      ]
     },
     "execution_count": 157,
     "metadata": {},
     "output_type": "execute_result"
    }
   ],
   "source": [
    "data = df_final.copy()\n",
    "\n",
    "data['RSI'] = indicators.RSI(data['Close'], 2).astype(float)\n",
    "data['SO'] = indicators.SO(data['Close'], data['Low'], data['High'], 14).astype(float)\n",
    "data['Will'] = indicators.Will(data['Close'], data['Low'], data['High'], 14).astype(float)\n",
    "data['MACD'] = indicators.MACD(data['Close'], 12, 26, 9)\n",
    "data['PROC'] = indicators.PROC(data['Close'], 2)\n",
    "data['OBV'] = indicators.OBV(data['Close'], data['Volume (BTC)'], 1)\n",
    "\n",
    "\n",
    "\n",
    "\n",
    "data = data.dropna()\n",
    "Y = data['Y'].values\n",
    "data = data.drop(['Open', 'High', 'Low', 'Weighted Price', 'Y'], axis=1)\n",
    "X = data.values\n",
    "data.describe()"
   ]
  },
  {
   "cell_type": "code",
   "execution_count": 193,
   "metadata": {},
   "outputs": [
    {
     "name": "stdout",
     "output_type": "stream",
     "text": [
      "1085 1085 559 1644\n"
     ]
    }
   ],
   "source": [
    "train_size = int(len(data) * 0.66)\n",
    "test_size = int((len(data) - train_size))\n",
    "\n",
    "trainy, testy = Y[:train_size], Y[train_size:]\n",
    "trainx, testx = X[:train_size,:], X[train_size:,:]\n",
    "\n",
    "#check the sizes of arrays\n",
    "print(len(trainy), len(trainx), len(testx), len(data))"
   ]
  },
  {
   "cell_type": "code",
   "execution_count": 194,
   "metadata": {},
   "outputs": [
    {
     "data": {
      "text/plain": [
       "0.98903348042902794"
      ]
     },
     "execution_count": 194,
     "metadata": {},
     "output_type": "execute_result"
    }
   ],
   "source": [
    "from sklearn.ensemble import RandomForestRegressor\n",
    "rf = RandomForestRegressor(n_estimators=500, max_depth=3, n_jobs=-1, random_state=7)\n",
    "\n",
    "rf.fit(trainx, trainy)\n",
    "rf.score(trainx, trainy)"
   ]
  },
  {
   "cell_type": "code",
   "execution_count": 195,
   "metadata": {},
   "outputs": [
    {
     "data": {
      "text/plain": [
       "0.059779464053228655"
      ]
     },
     "execution_count": 195,
     "metadata": {},
     "output_type": "execute_result"
    }
   ],
   "source": [
    "rf.score(testx, testy)"
   ]
  },
  {
   "cell_type": "code",
   "execution_count": null,
   "metadata": {
    "collapsed": true
   },
   "outputs": [],
   "source": []
  },
  {
   "cell_type": "code",
   "execution_count": 196,
   "metadata": {},
   "outputs": [
    {
     "data": {
      "text/plain": [
       "[<matplotlib.lines.Line2D at 0x12694ff0>]"
      ]
     },
     "execution_count": 196,
     "metadata": {},
     "output_type": "execute_result"
    },
    {
     "data": {
      "image/png": "[encoded data removed]",
      "text/plain": [
       "<matplotlib.figure.Figure at 0x123e2350>"
      ]
     },
     "metadata": {},
     "output_type": "display_data"
    }
   ],
   "source": [
    "import matplotlib.pyplot as plt\n",
    "plt.style = 'ggplot'\n",
    "%matplotlib inline\n",
    "\n",
    "test_pr = rf.predict(testx)\n",
    "\n",
    "plt.figure(figsize=(15,10))\n",
    "plt.plot(testy)\n",
    "plt.plot(test_pr)"
   ]
  },
  {
   "cell_type": "code",
   "execution_count": 169,
   "metadata": {},
   "outputs": [
    {
     "data": {
      "text/plain": [
       "array([  1.04828172e-02,   2.01282008e-04,   1.32817023e-04,\n",
       "         1.05151681e-03,   1.52306565e-04,   1.36164604e-04,\n",
       "         1.06021418e-02,   5.96641777e-03,   1.02739705e-02,\n",
       "         9.57158574e-01,   1.24093768e-04,   8.82634562e-04,\n",
       "         2.46445269e-05,   3.80106524e-04,   3.69163084e-04,\n",
       "         4.03744577e-06,   7.92074734e-04,   1.26523740e-03])"
      ]
     },
     "execution_count": 169,
     "metadata": {},
     "output_type": "execute_result"
    }
   ],
   "source": [
    "rf.feature_importances_"
   ]
  },
  {
   "cell_type": "code",
   "execution_count": null,
   "metadata": {
    "collapsed": true
   },
   "outputs": [],
   "source": []
  }
 ],
 "metadata": {
  "kernelspec": {
   "display_name": "Python [default]",
   "language": "python",
   "name": "python3"
  },
  "language_info": {
   "codemirror_mode": {
    "name": "ipython",
    "version": 3
   },
   "file_extension": ".py",
   "mimetype": "text/x-python",
   "name": "python",
   "nbconvert_exporter": "python",
   "pygments_lexer": "ipython3",
   "version": "3.5.3"
  }
 },
 "nbformat": 4,
 "nbformat_minor": 2
}
